{
 "cells": [
  {
   "cell_type": "markdown",
   "metadata": {},
   "source": [
    "# ISE Software Testing: Lab 1"
   ]
  },
  {
   "cell_type": "markdown",
   "metadata": {},
   "source": [
    "## Faults and Failures\n",
    "\n",
    "The purpose of this excercise is to explore the relationship between faults and failures. We will use a simple (faulty) program that counts the number of zeros in a list of numbers.  The program is implemented in the function `count_zeros` below."
   ]
  },
  {
   "cell_type": "code",
   "execution_count": 53,
   "metadata": {},
   "outputs": [],
   "source": [
    "def count_zeros(arr):\n",
    "    \"\"\"Count the number of zeros in the given list.\"\"\"\n",
    "    count = 0\n",
    "    for i in range(1, len(arr)):\n",
    "        if arr[i] == 0:\n",
    "            count += 1\n",
    "    return count"
   ]
  },
  {
   "cell_type": "markdown",
   "metadata": {},
   "source": [
    "Try to run the program with different inputs.  What happens when you run the program with an empty list?  What happens when you run the program with a list that contains only zeros?  What happens when you run the program with a list that contains no zeros?\n",
    "\n",
    "Based on your observations:\n",
    "- What is the fault in the program?\n",
    "- What is the failure that you observe?\n",
    "- Can you think of a test case that would reveal the fault?\n",
    "- Can you think of a test case that would *not* reveal the fault?"
   ]
  },
  {
   "cell_type": "code",
   "execution_count": 54,
   "metadata": {},
   "outputs": [
    {
     "data": {
      "text/plain": [
       "2"
      ]
     },
     "execution_count": 54,
     "metadata": {},
     "output_type": "execute_result"
    }
   ],
   "source": [
    "# Try running the function with different inputs here!\n",
    "count_zeros([1, 0, 5, 6, 0, 2])"
   ]
  },
  {
   "cell_type": "markdown",
   "metadata": {},
   "source": [
    "Now, let's try to fix the fault.  Modify the program so that it correctly counts the number of zeros in a list of numbers.  You can use the function `count_zeros_fixed` below to implement your solution. Don't forget to test your solution!"
   ]
  },
  {
   "cell_type": "code",
   "execution_count": 55,
   "metadata": {},
   "outputs": [],
   "source": [
    "def count_zeros_fixed(arr):\n",
    "    \"\"\"Count the number of zeros in the given list.\"\"\"\n",
    "    count = 0\n",
    "    # TODO Your code here!\n",
    "    return count\n",
    "\n",
    "# Try running the function with different inputs here!"
   ]
  },
  {
   "cell_type": "markdown",
   "metadata": {},
   "source": [
    "Now do the same for each of the four potentially faulty programs below.  For each program:\n",
    "- What is the fault in the program?\n",
    "- What is the failure that you observe?\n",
    "- Can you think of a test case that would reveal the fault?\n",
    "- Can you think of a test case that would *not* reveal the fault?\n",
    "\n",
    "Fix the fault in each program and test your solution."
   ]
  },
  {
   "cell_type": "code",
   "execution_count": 56,
   "metadata": {},
   "outputs": [],
   "source": [
    "def find_last(arr, y):\n",
    "    \"\"\"Find the index of the last occurrence of y in the given list.\"\"\"\n",
    "    for i in range(len(arr) - 1, 0, -1):\n",
    "        if arr[i] == y:\n",
    "            return i\n",
    "    return -1"
   ]
  },
  {
   "cell_type": "code",
   "execution_count": 57,
   "metadata": {},
   "outputs": [],
   "source": [
    "# Try running the function with different inputs here!"
   ]
  },
  {
   "cell_type": "code",
   "execution_count": 58,
   "metadata": {},
   "outputs": [],
   "source": [
    "def last_zero(arr):\n",
    "    \"\"\"Find the index of the last occurrence of 0 in the given list.\"\"\"\n",
    "    for i in range(0, len(arr)):\n",
    "        if arr[i] == 0:\n",
    "            return i\n",
    "    return -1"
   ]
  },
  {
   "cell_type": "code",
   "execution_count": 59,
   "metadata": {},
   "outputs": [],
   "source": [
    "# Try running the function with different inputs here!"
   ]
  },
  {
   "cell_type": "code",
   "execution_count": 60,
   "metadata": {},
   "outputs": [],
   "source": [
    "def count_positive(x):\n",
    "    \"\"\"Count the number of positive numbers in the given list.\"\"\"\n",
    "    count = 0\n",
    "    for i in range(0, len(x)):\n",
    "        if x[i] >= 0:\n",
    "            count += 1\n",
    "    return count"
   ]
  },
  {
   "cell_type": "code",
   "execution_count": 61,
   "metadata": {},
   "outputs": [],
   "source": [
    "# Try running the function with different inputs here!"
   ]
  },
  {
   "cell_type": "code",
   "execution_count": 62,
   "metadata": {},
   "outputs": [],
   "source": [
    "def odd_or_pos(arr):\n",
    "    \"\"\"Count the number of elements in arr that are either odd or positive (or both).\"\"\"\n",
    "    count = 0\n",
    "    for i in range(0, len(arr)):\n",
    "        if arr[i] % 2 == 1 or arr[i] > 0:\n",
    "            count += 1\n",
    "    return count"
   ]
  },
  {
   "cell_type": "code",
   "execution_count": 63,
   "metadata": {},
   "outputs": [],
   "source": [
    "# Try running the function with different inputs here!"
   ]
  },
  {
   "cell_type": "markdown",
   "metadata": {},
   "source": [
    "## Being Assertive!\n",
    "\n",
    "The `assert` statement is a useful tool for testing your code. It allows you to check that a condition is true at a particular point in your program. If the condition is false, then the program will raise an `AssertionError` exception. If the condition is true, then the program will continue to execute normally.\n",
    "\n",
    "Different programming languages have different ways of handling assertions. Many allow assertions to be enabled or disabled at runtime. Why not research the `assert` statement in your favourite programming language and try it out?"
   ]
  },
  {
   "cell_type": "code",
   "execution_count": 64,
   "metadata": {},
   "outputs": [
    {
     "name": "stdout",
     "output_type": "stream",
     "text": [
      "Caught an AssertionError: This statement always triggers an AssertionError\n"
     ]
    }
   ],
   "source": [
    "# Here's an example of using assert statements to test your code.\n",
    "# Check out Python's documentation for more information about assert statements:\n",
    "# https://docs.python.org/3/reference/simple_stmts.html#the-assert-statement\n",
    "assert 2 + 2 == 4\n",
    "assert 2 + 2 != 5, \"2 + 2 should not equal 5\"\n",
    "\n",
    "# I'm catching the AssertionError here so that it doesn't halt the notebook's execution.\n",
    "# You can remove this try/except block if you want to see the AssertionError.\n",
    "try:\n",
    "    assert False, \"This statement always triggers an AssertionError\"\n",
    "except AssertionError as e:\n",
    "    print(\"Caught an AssertionError:\", e)"
   ]
  },
  {
   "cell_type": "markdown",
   "metadata": {},
   "source": [
    "Revisit the programs from the faults and failures section and rewrite your tests using assertions to check that each program is working correctly."
   ]
  },
  {
   "cell_type": "markdown",
   "metadata": {},
   "source": [
    "## Testing Triangles\n",
    "\n",
    "The following program determines whether a triangle is scalene or not.  It takes three numbers (the lengths of the triangle's sides) as input and returns `True` if the triangle is scalene, and `False` otherwise.\n",
    "\n",
    "```python\n",
    "def is_scalene(a: float, b: float, c: float) -> bool:\n",
    "    # TODO implement this function!\n",
    "    pass\n",
    "```\n",
    "\n",
    "The program is incomplete.  Your task is to complete the program and test it!\n",
    "\n",
    "Start by thinking about the different types of triangle that exist.  What are the properties of each type of triangle?  What are the properties of a scalene triangle?  What are the properties of a non-scalene triangle? Are there any special cases that you need to consider?\n",
    "\n",
    "Once you have a good idea of what the program should do, you can start to write some tests and implement the program. After that, think about:\n",
    "- Should you write the tests first or the program first?\n",
    "- Can you collaborate with your peers to come up with more test cases?\n",
    "- Are any of the test cases redundant?\n",
    "- Is the intent of your tests easy to understand?\n",
    "- How much copying and pasting are you doing? Is there a better way?"
   ]
  },
  {
   "cell_type": "code",
   "execution_count": 65,
   "metadata": {},
   "outputs": [],
   "source": [
    "def is_scalene(a: float, b: float, c: float) -> bool:\n",
    "    # TODO implement this function!\n",
    "    pass\n",
    "\n",
    "# TODO write your own tests for is_scalene!"
   ]
  },
  {
   "cell_type": "markdown",
   "metadata": {},
   "source": [
    "## Testing Frameworks\n",
    "\n",
    "Testing frameworks are tools that help you to write and run tests. They can be used to automate the process of running tests and reporting the results. They can also be used to help you to write tests by providing useful features such as assertions and test fixtures.\n",
    "\n",
    "There are many different testing frameworks available for different programming languages.  Why not research the testing frameworks that are available for your favourite programming language and try one out?\n",
    "\n",
    "In the meantime, let's try out the `unittest` framework for Python. It comes with Python by default, so you don't need to install anything. Start by running the example test case below. Don't forget to check out the documentation at https://docs.python.org/3/library/unittest.html for a much more detailed explanation of how to use the `unittest` framework."
   ]
  },
  {
   "cell_type": "code",
   "execution_count": 66,
   "metadata": {},
   "outputs": [
    {
     "name": "stderr",
     "output_type": "stream",
     "text": [
      "/tmp/ipykernel_1383/4039540930.py:11: DeprecationWarning: Please use assertAlmostEqual instead.\n",
      "  self.assertAlmostEquals(0.0001, 0.0002, places=3)\n",
      ".F\n",
      "======================================================================\n",
      "FAIL: test_equal (__main__.TestExample)\n",
      "----------------------------------------------------------------------\n",
      "Traceback (most recent call last):\n",
      "  File \"/tmp/ipykernel_1383/4039540930.py\", line 7, in test_equal\n",
      "    self.assertEqual(2 + 2, 5, \"This isn't 1984, and he's not that O'Brien\")\n",
      "AssertionError: 4 != 5 : This isn't 1984, and he's not that O'Brien\n",
      "\n",
      "----------------------------------------------------------------------\n",
      "Ran 2 tests in 0.002s\n",
      "\n",
      "FAILED (failures=1)\n"
     ]
    },
    {
     "data": {
      "text/plain": [
       "<unittest.runner.TextTestResult run=2 errors=0 failures=1>"
      ]
     },
     "execution_count": 66,
     "metadata": {},
     "output_type": "execute_result"
    }
   ],
   "source": [
    "import unittest\n",
    "\n",
    "class TestExample(unittest.TestCase):\n",
    "\n",
    "    def test_equal(self):\n",
    "        # We can use unittest's built-in assertions to test our code.\n",
    "        self.assertEqual(2 + 2, 5, \"This isn't 1984, and he's not that O'Brien\")\n",
    "\n",
    "    def test_almost(self):\n",
    "        # Assertions can be much more specific than just equal/not equal!\n",
    "        self.assertAlmostEquals(0.0001, 0.0002, places=3)\n",
    "\n",
    "\n",
    "suite = unittest.defaultTestLoader.loadTestsFromTestCase(TestExample)\n",
    "unittest.TextTestRunner().run(suite)"
   ]
  },
  {
   "cell_type": "markdown",
   "metadata": {},
   "source": [
    "Now that you've seen how to use the `unittest` framework, try rewriting your tests for `is_scalene` from the previous section using `unittest`."
   ]
  },
  {
   "cell_type": "code",
   "execution_count": 67,
   "metadata": {},
   "outputs": [
    {
     "name": "stderr",
     "output_type": "stream",
     "text": [
      "\n",
      "----------------------------------------------------------------------\n",
      "Ran 0 tests in 0.000s\n",
      "\n",
      "OK\n"
     ]
    },
    {
     "data": {
      "text/plain": [
       "<unittest.runner.TextTestResult run=0 errors=0 failures=0>"
      ]
     },
     "execution_count": 67,
     "metadata": {},
     "output_type": "execute_result"
    }
   ],
   "source": [
    "import unittest\n",
    "\n",
    "class TestScalene(unittest.TestCase):\n",
    "    # TODO write your own tests for is_scalene!\\\n",
    "    pass\n",
    "\n",
    "\n",
    "suite = unittest.defaultTestLoader.loadTestsFromTestCase(TestScalene)\n",
    "unittest.TextTestRunner().run(suite)"
   ]
  }
 ],
 "metadata": {
  "kernelspec": {
   "display_name": "Python 3",
   "language": "python",
   "name": "python3"
  },
  "language_info": {
   "codemirror_mode": {
    "name": "ipython",
    "version": 3
   },
   "file_extension": ".py",
   "mimetype": "text/x-python",
   "name": "python",
   "nbconvert_exporter": "python",
   "pygments_lexer": "ipython3",
   "version": "3.8.10"
  }
 },
 "nbformat": 4,
 "nbformat_minor": 2
}
