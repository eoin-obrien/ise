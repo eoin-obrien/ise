{
 "cells": [
  {
   "cell_type": "markdown",
   "metadata": {},
   "source": [
    "# ISE Software Testing: Lab 2\n",
    "\n",
    "> Elements of this lab sheet have been adapted from Introduction to Software Testing (2nd edition), by Ammann and Offutt."
   ]
  },
  {
   "cell_type": "markdown",
   "metadata": {},
   "source": [
    "## Testing Java with JUnit\n",
    "\n",
    "So we've already covered the basics of testing Python code with pytest. Now we're going to look at testing Java code with JUnit!\n",
    "Unfortunately, Google Colab doesn't support Java runtimes outside of some hacky workarounds, so you'll need to do this lab on your own machine.\n",
    "\n",
    "Go to https://junit.org/junit5/ and follow the instructions to install JUnit 5. You'll need to install the JUnit 5 platform and the JUnit 5 Jupiter engine. You can do this with Maven or Gradle, or you can download the JAR files directly. You'll also need to install a Java JDK if you don't already have one, but hopefully you do at this point!\n",
    "\n",
    "If you're using an IDE, such as VSCode, IntelliJ, or Eclipse, you'll be able to either install a JUnit plugin or use the built-in JUnit support to run your tests. If you're not using an IDE, you can use the command line to run your tests. It's a good idea to get familiar with both methods.\n",
    "\n",
    "This time around, there's more onus on you to figure out how to get things working. https://junit.org/junit5/docs/current/user-guide/ has all of the info you'll need to get started. It's good practice to get used to installing packages from their own docs.\n",
    "\n",
    "If you're having trouble, try Googling your error messages or asking ChatGPT! If you're still stuck, you can ask me for help (and I'll Google your error messages)."
   ]
  },
  {
   "cell_type": "markdown",
   "metadata": {},
   "source": [
    "### `CountPositive.java`\n",
    "\n",
    "```java\n",
    "/** \n",
    " * Counts positive elements in array\n",
    " *\n",
    " * @param x array to search\n",
    " * @return number of positive elements in x\n",
    " * @throws NullPointerException if x is null\n",
    " */\n",
    "public static int countPositive (int[] x)\n",
    "{\n",
    "    int count = 0;\n",
    "\n",
    "    for (int i=0; i < x.length; i++)\n",
    "    {\n",
    "        if (x[i] >= 0)\n",
    "        {\n",
    "        count++;\n",
    "        }\n",
    "    }\n",
    "    return count;\n",
    "}\n",
    "```"
   ]
  },
  {
   "cell_type": "markdown",
   "metadata": {},
   "source": [
    "### `FindLast.java`\n",
    "\n",
    "```java\n",
    "/**\n",
    "* Find last index of element\n",
    "* \n",
    "*  @param x array to search\n",
    "*  @param y value to look for\n",
    "*  @return last index of y in x; -1 if absent\n",
    "*  @throws NullPointerException if x is null\n",
    "*/\n",
    "public static int findLast (int[] x, int y)\n",
    "{ \n",
    "    // As the example in the book points out, this loop should end at 0.\n",
    "    for (int i=x.length-1; i > 0; i--)\n",
    "    {\n",
    "        if (x[i] == y) \n",
    "        {\n",
    "        return i;\n",
    "        }\n",
    "    }\n",
    "    return -1;\n",
    "}\n",
    "```"
   ]
  },
  {
   "cell_type": "markdown",
   "metadata": {},
   "source": [
    "### `LastZero.java`\n",
    "\n",
    "```java\n",
    "/**\n",
    " * Find LAST index of zero\n",
    " *\n",
    " * @param x array to search\n",
    " * @return index of last 0 in x; -1 if absent\n",
    " * @throws NullPointerException if x is null\n",
    " */\n",
    "public static int lastZero (int[] x)\n",
    "{\n",
    "    for (int i = 0; i < x.length; i++)\n",
    "    {\n",
    "        if (x[i] == 0)\n",
    "        {\n",
    "        return i;\n",
    "        }\n",
    "    }\n",
    "    return -1;\n",
    "}\n",
    "```"
   ]
  },
  {
   "cell_type": "markdown",
   "metadata": {},
   "source": [
    "### `NumZero.java`\n",
    "\n",
    "```java\n",
    "/**\n",
    " * Counts zeroes in an array\n",
    " *\n",
    " * @param x  array to count zeroes in\n",
    " * @return   number of occurrences of 0 in x\n",
    " * @throws   NullPointerException if x is null\n",
    " */\n",
    "public static int numZero (int[] x)\n",
    "{  \n",
    "    int count = 0;\n",
    "\n",
    "    // As example in the book points out, this loop should start at 0.\n",
    "    // Better yet, is should be a foreach loop,\n",
    "    // which eliminates the possibility of the fencepost fault:\n",
    "    // for (int i:x) { if (x==0) count++; }\n",
    "    for (int i = 1; i < x.length; i++)\n",
    "    {\n",
    "        if (x[i] == 0) count++;\n",
    "    }\n",
    "    return count;\n",
    "}\n",
    "```"
   ]
  },
  {
   "cell_type": "markdown",
   "metadata": {},
   "source": [
    "### `OddOrPos.java`\n",
    "\n",
    "```java\n",
    "/**\n",
    " * Count odd or positive elements in an array\n",
    " *\n",
    " * @param x array to search\n",
    " * @return count of odd or positive elements in x\n",
    " * @throws NullPointerException if x is null\n",
    " */\n",
    "public static int oddOrPos (int[] x)\n",
    "{  // Effects:  if x is null throw NullPointerException\n",
    "    // else return the number of elements in x that\n",
    "    //      are either odd or positive (or both)\n",
    "    int count = 0;\n",
    "\n",
    "    for (int i = 0; i < x.length; i++)\n",
    "    {\n",
    "        if (x[i]%2 == 1 || x[i] > 0)\n",
    "        {\n",
    "        count++;\n",
    "        }\n",
    "    }\n",
    "    return count;\n",
    "}\n",
    "```"
   ]
  },
  {
   "cell_type": "markdown",
   "metadata": {},
   "source": [
    "You know the drill!  For each program:\n",
    "- What is the fault in the program?\n",
    "- What is the failure that you observe?\n",
    "- Can you think of a test case that would reveal the fault?\n",
    "- Can you think of a test case that would *not* reveal the fault?\n",
    "\n",
    "Fix the fault in each program and test your solution.\n",
    "\n",
    "**NB:** These programs look suspiciously similar to the ones from Lab 1.  That's because they are!  We're going to be using them to compare testing in Python and Java. But beware! There may be some subtle differences between the two versions of each program.  Make sure you're looking at the Java version when you're working on this lab. Don't pull an Ariane 5 and simply copy your results from Lab 1!"
   ]
  },
  {
   "cell_type": "markdown",
   "metadata": {},
   "source": [
    "## Fibonacci\n",
    "\n",
    "The Fibonacci sequence is a sequence of numbers where each number is the sum of the previous two numbers. The first two numbers in the sequence are 0 and 1. The first few numbers in the sequence are 0, 1, 1, 2, 3, 5, 8, 13, 21, 34...\n",
    "\n",
    "Write a function that takes in a number `n` and returns the `n`th Fibonacci number.\n",
    "For example, `fib(0)` should return `0`, `fib(1)` should return `1`, `fib(2)` should return `1`, `fib(3)` should return `2`, `fib(4)` should return `3`, etc.\n",
    "\n",
    "Use a test-driven development approach to write your function. Write a test case, then write the function, then write another test case, then write more of the function, etc. until you're confident that your function works. Think about how effective the tests produced by TDD are. Are there any test cases that you could add to make your tests more effective after you've finished coding?\n",
    "\n",
    "Finally, think about how performant your function is. Is unit testing directly or indirectly affected by performance? How could you test the performance of your function and compare it to other students' functions? What factors might bias your results, and how could you mitigate them?\n",
    "\n",
    "You can use either Python or Java to complete this section. I strongly suggest that you try it in both languages! Use your favorite now, and try it in the other language later."
   ]
  },
  {
   "cell_type": "code",
   "execution_count": 10,
   "metadata": {},
   "outputs": [],
   "source": [
    "# This function stub is here to help you get started!\n",
    "def fib(n):\n",
    "    pass"
   ]
  },
  {
   "cell_type": "markdown",
   "metadata": {},
   "source": [
    "## Making a Mockery of Testing\n",
    "\n",
    "In this section, we're going to look at mocking. Mocking is a technique that allows you to replace parts of your code with fake versions of those parts. This is useful for testing because it allows you to test parts of your code in isolation. For example, if you're testing a function that uses a database, you can mock the database so that you don't need to set up a real database to test your function."
   ]
  },
  {
   "cell_type": "code",
   "execution_count": 11,
   "metadata": {},
   "outputs": [
    {
     "name": "stdout",
     "output_type": "stream",
     "text": [
      "Tossed coin: T\n"
     ]
    }
   ],
   "source": [
    "import random\n",
    "\n",
    "\n",
    "def toss_coin():\n",
    "    \"\"\"Returns 'H' for heads and 'T' for tails.\"\"\"\n",
    "    rand_num = random.random()\n",
    "    if rand_num < 0.5:\n",
    "        return 'H'\n",
    "    else:\n",
    "        return 'T'\n",
    "\n",
    "\n",
    "print('Tossed coin:', toss_coin())"
   ]
  },
  {
   "cell_type": "markdown",
   "metadata": {},
   "source": [
    "Try writing some tests for `toss_coin`. You'll quickly run into trouble... how do you test a function that uses `random.random`? The output is, by definition, random! You can't write a test that checks for a specific output, because you don't know in advance what the output will be. You *could* write a test to check that the output is either H or T, but that's not very helpful for this example and is even less so for more complex non-deterministic functions.\n",
    "\n",
    "So what do we do? We mock it! We replace `random.random` with a fake version of `random.random` that always returns the same value. In effect, we force it to behave deterministically in the test environment. Now we can test our function without worrying about the randomness.\n",
    "\n",
    "See https://docs.python.org/3/library/unittest.mock.html for more info on mocking in Python. In Java/JUnit, you can use Mockito (https://site.mockito.org/)."
   ]
  },
  {
   "cell_type": "code",
   "execution_count": 12,
   "metadata": {},
   "outputs": [
    {
     "name": "stderr",
     "output_type": "stream",
     "text": [
      "...\n",
      "----------------------------------------------------------------------\n",
      "Ran 3 tests in 0.003s\n",
      "\n",
      "OK\n"
     ]
    },
    {
     "data": {
      "text/plain": [
       "<unittest.runner.TextTestResult run=3 errors=0 failures=0>"
      ]
     },
     "execution_count": 12,
     "metadata": {},
     "output_type": "execute_result"
    }
   ],
   "source": [
    "import unittest\n",
    "from unittest.mock import patch\n",
    "\n",
    "class MockingExample(unittest.TestCase):\n",
    "\n",
    "    # Is there any point to including this test?\n",
    "    # What do we learn from it that we don't learn from the mocks?\n",
    "    def test_random(self):\n",
    "        self.assertIn(toss_coin(), ['H', 'T'])\n",
    "\n",
    "    # We can use patch to control the output of random.random()\n",
    "    def test_heads(self):\n",
    "        with patch('random.random', return_value=0.1):\n",
    "            self.assertEqual(toss_coin(), 'H')\n",
    "\n",
    "    # We can also use patch as a decorator! Note the extra argument.\n",
    "    @patch('random.random', return_value=0.6)\n",
    "    def test_tails(self, mock_random):\n",
    "        self.assertEqual(toss_coin(), 'T')\n",
    "\n",
    "\n",
    "suite = unittest.defaultTestLoader.loadTestsFromTestCase(MockingExample)\n",
    "unittest.TextTestRunner().run(suite)"
   ]
  },
  {
   "cell_type": "markdown",
   "metadata": {},
   "source": [
    "Consider the mocked values used in the example above. Are they good values to use? Why or why not? If not, what values would you use instead?"
   ]
  },
  {
   "cell_type": "markdown",
   "metadata": {},
   "source": [
    "## Testing Dice\n",
    "\n",
    "And now, over to you! Using a test-driven approach, write a function to simulate rolling an n-sided die. You can use either Python or Java. If you're using Python, you can use the `random` module. If you're using Java, you can use `Math.random()`. You'll need to mock the random number generator to test your function.\n",
    "\n",
    "Don't forget to test the unhappy path as well!\n",
    "\n",
    "Once you've finished, consider the following questions:\n",
    "- What values should you use to mock the random number generator? Why?\n",
    "- What kind of assumptions are you making about the random number generator? Are they valid?\n",
    "- Briefly research (i.e. Google, ChatGPT, etc.) the limitations of the random number generator you're using. What are they? Are they relevant to your use case?\n",
    "- Dice should be uniformly random. How could you test that your function produces uniformly random results?"
   ]
  },
  {
   "cell_type": "code",
   "execution_count": 13,
   "metadata": {},
   "outputs": [],
   "source": [
    "# This function stub is here to help you get started!\n",
    "def roll_die(n: int):\n",
    "    \"\"\"Simulate rolling an n-sided die.\n",
    "\n",
    "    Args:\n",
    "        n (int): The number of sides on the die.\n",
    "\n",
    "    Returns:\n",
    "        int: The result of rolling the die.\n",
    "    \"\"\"\n",
    "    pass"
   ]
  }
 ],
 "metadata": {
  "kernelspec": {
   "display_name": "Python 3",
   "language": "python",
   "name": "python3"
  },
  "language_info": {
   "codemirror_mode": {
    "name": "ipython",
    "version": 3
   },
   "file_extension": ".py",
   "mimetype": "text/x-python",
   "name": "python",
   "nbconvert_exporter": "python",
   "pygments_lexer": "ipython3",
   "version": "3.8.10"
  }
 },
 "nbformat": 4,
 "nbformat_minor": 2
}
