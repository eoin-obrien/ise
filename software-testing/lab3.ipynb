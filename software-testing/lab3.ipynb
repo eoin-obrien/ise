{
 "cells": [
  {
   "cell_type": "markdown",
   "metadata": {},
   "source": [
    "# ISE Software Testing: Lab 3\n",
    "\n",
    "> Elements of this lab sheet have been adapted from Introduction to Software Testing (2nd edition), by Ammann and Offutt."
   ]
  },
  {
   "cell_type": "markdown",
   "metadata": {},
   "source": [
    "## The Revenge of Leaving Cert Maths\n",
    "\n",
    "I'm guessing that you've encountered the formula for the roots of a quadratic equation before:\n",
    "\n",
    "$$\n",
    "x = \\frac{-b \\pm \\sqrt{b^2 - 4ac}}{2a}\n",
    "$$\n",
    "\n",
    "In this lab, we're going to test a Python function that implements this formula. The function is defined in the cell below."
   ]
  },
  {
   "cell_type": "code",
   "execution_count": 4,
   "metadata": {},
   "outputs": [
    {
     "name": "stdout",
     "output_type": "stream",
     "text": [
      "(12.0, 3.0)\n"
     ]
    }
   ],
   "source": [
    "import math\n",
    "\n",
    "\n",
    "def quadratic_roots(a, b, c):\n",
    "    \"\"\"Returns the roots of a quadratic equation.\"\"\"\n",
    "    discriminant = b**2 - 4 * a * c\n",
    "    return (\n",
    "        (-b + math.sqrt(discriminant)) / (2 * a),\n",
    "        (-b - math.sqrt(discriminant)) / (2 * a),\n",
    "    )\n",
    "\n",
    "\n",
    "print(quadratic_roots(1, -15, 36))"
   ]
  },
  {
   "cell_type": "markdown",
   "metadata": {},
   "source": [
    "### Random Testing\n",
    "\n",
    "The first testing technique we're going to use is called *random testing*. This is a simple technique that involves generating random inputs and checking that the function behaves as expected.\n",
    "\n",
    "Although it sounds simple, you might find that it's not as easy as it sounds to get this right. For example, how do you *know* that the function is behaving correctly for some set of randomly-generated inputs? What about edge cases? What about invalid inputs? Are all paths through the function guaranteed to be tested?"
   ]
  },
  {
   "cell_type": "code",
   "execution_count": null,
   "metadata": {},
   "outputs": [],
   "source": [
    "import unittest\n",
    "\n",
    "class RandomTesting(unittest.TestCase):\n",
    "    pass\n",
    "\n",
    "\n",
    "suite = unittest.defaultTestLoader.loadTestsFromTestCase(RandomTesting)\n",
    "unittest.TextTestRunner().run(suite)"
   ]
  },
  {
   "cell_type": "markdown",
   "metadata": {},
   "source": [
    "### Systematic Testing\n",
    "\n",
    "The second testing technique we're going to use is called *systematic testing*. This time around, we're going to pick test inputs non-randomly. We're going to exploit our knowledge of the problem domain to pick test inputs that are likely to reveal bugs.\n",
    "\n",
    "One way to do this is to use the *equivalence class partitioning* technique. This involves dividing the set of all possible inputs into *equivalence classes*. Each equivalence class contains inputs that are equivalent in some way. For example, all inputs that yield two distinct roots are equivalent in a sense. If the function behaves correctly for one input in an equivalence class, it should behave correctly for all inputs in that equivalence class. Can you think of other equivalence classes for this program?\n",
    "\n",
    "Using this and/or other approaches, write some systematic tests for the `quadratic_roots` function. You should write your tests in the cell below."
   ]
  },
  {
   "cell_type": "code",
   "execution_count": null,
   "metadata": {},
   "outputs": [],
   "source": [
    "import unittest\n",
    "\n",
    "class SystematicTesting(unittest.TestCase):\n",
    "    pass\n",
    "\n",
    "\n",
    "suite = unittest.defaultTestLoader.loadTestsFromTestCase(SystematicTesting)\n",
    "unittest.TextTestRunner().run(suite)"
   ]
  },
  {
   "cell_type": "markdown",
   "metadata": {},
   "source": [
    "## Boundary Value Analysis\n",
    "\n",
    "The third testing technique we're going to use is called *boundary value analysis*. This is a systematic technique that involves picking test inputs that are on the boundary between equivalence classes. Why do you think this might be a good idea compared to picking test inputs that are not on the boundary?"
   ]
  },
  {
   "cell_type": "code",
   "execution_count": null,
   "metadata": {},
   "outputs": [],
   "source": [
    "def is_in_range(number, min_value, max_value):\n",
    "    \"\"\"\n",
    "    Check if a number is within the specified range (inclusive).\n",
    "\n",
    "    Args:\n",
    "    - number (int): The number to be checked.\n",
    "    - min_value (int): The minimum allowed value.\n",
    "    - max_value (int): The maximum allowed value.\n",
    "\n",
    "    Returns:\n",
    "    - bool: True if the number is within the range, False otherwise.\n",
    "    \"\"\"\n",
    "    return min_value <= number <= max_value"
   ]
  },
  {
   "cell_type": "markdown",
   "metadata": {},
   "source": [
    "Work out the equivalence classes for the `is_in_range` function above. Then, use boundary value analysis to pick test inputs for each equivalence class. You should write your tests in the cell below."
   ]
  },
  {
   "cell_type": "code",
   "execution_count": null,
   "metadata": {},
   "outputs": [],
   "source": [
    "import unittest\n",
    "\n",
    "class BoundaryTesting(unittest.TestCase):\n",
    "    pass\n",
    "\n",
    "\n",
    "suite = unittest.defaultTestLoader.loadTestsFromTestCase(BoundaryTesting)\n",
    "unittest.TextTestRunner().run(suite)"
   ]
  },
  {
   "cell_type": "markdown",
   "metadata": {},
   "source": [
    "## Parameterised Testing\n",
    "\n",
    "You'll notice that the last exercise had you writing a lot of extremely similar tests, with more copying and pasting than you might like. This is a common problem in testing, and it's one that can be solved using *parameterised testing*. This is a technique that involves writing a single test that can be run multiple times with different inputs, making it quicker, easier and more maintainable!\n",
    "\n",
    "Copy your tests from the last exercise into the cell below. Then, use parameterised testing to refactor similar tests into a single test that can be run multiple times with different inputs.\n",
    "\n",
    "You might want to start by trying this manually to get a feel for how it works. For example:\n",
    "\n",
    "```python\n",
    "def test_is_in_range():\n",
    "    assert is_in_range(0, 10, 5) == True\n",
    "    assert is_in_range(0, 10, 15) == False\n",
    "    assert is_in_range(0, 10, -5) == False\n",
    "```\n",
    "\n",
    "can be refactored into:\n",
    "\n",
    "```python\n",
    "def test_is_in_range():\n",
    "    test_cases = [\n",
    "        (0, 10, 5, True),\n",
    "        (0, 10, 15, False),\n",
    "        (0, 10, -5, False),\n",
    "    ]\n",
    "    for upper, lower, value, expected in test_cases:\n",
    "        assert is_in_range(upper, lower, value) == expected\n",
    "```\n",
    "\n",
    "This works, but it's not ideal. Check out the [`parameterized`](https://github.com/wolever/parameterized) library for a nicer way to do this!"
   ]
  },
  {
   "cell_type": "code",
   "execution_count": null,
   "metadata": {},
   "outputs": [],
   "source": [
    "# This isn't part of Python's standard library, so we need to install it.\n",
    "%pip install parameterized"
   ]
  },
  {
   "cell_type": "code",
   "execution_count": null,
   "metadata": {},
   "outputs": [],
   "source": [
    "import unittest\n",
    "\n",
    "class ParameterizedTesting(unittest.TestCase):\n",
    "    pass\n",
    "\n",
    "\n",
    "suite = unittest.defaultTestLoader.loadTestsFromTestCase(ParameterizedTesting)\n",
    "unittest.TextTestRunner().run(suite)"
   ]
  }
 ],
 "metadata": {
  "kernelspec": {
   "display_name": "Python 3",
   "language": "python",
   "name": "python3"
  },
  "language_info": {
   "codemirror_mode": {
    "name": "ipython",
    "version": 3
   },
   "file_extension": ".py",
   "mimetype": "text/x-python",
   "name": "python",
   "nbconvert_exporter": "python",
   "pygments_lexer": "ipython3",
   "version": "3.8.10"
  }
 },
 "nbformat": 4,
 "nbformat_minor": 2
}
