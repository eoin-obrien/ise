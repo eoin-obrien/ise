{
 "cells": [
  {
   "cell_type": "markdown",
   "metadata": {},
   "source": [
    "# ISE Software Testing: Lab 4"
   ]
  },
  {
   "cell_type": "markdown",
   "metadata": {},
   "source": [
    "## Statement Coverage\n",
    "\n",
    "Statement coverage is a metric that measures the percentage of statements that are executed by a test suite. 100% statement coverage means that every statement in the program has been executed at least once.\n",
    "\n",
    "Below is a simple program that calculates the average of a list of numbers. Your task is to write a test suite that achieves 100% statement coverage. Think about:\n",
    "- Does 100% statement coverage mean that the program is bug-free?\n",
    "- If not, what does it mean?\n",
    "- What are the advantages and disadvantages of statement coverage as a metric?"
   ]
  },
  {
   "cell_type": "code",
   "execution_count": 1,
   "metadata": {},
   "outputs": [],
   "source": [
    "def average(nums):\n",
    "    if len(nums) == 0:\n",
    "        return 0\n",
    "    total = 0\n",
    "    for num in nums:\n",
    "        total += num\n",
    "    return total / len(nums)"
   ]
  },
  {
   "cell_type": "code",
   "execution_count": 2,
   "metadata": {},
   "outputs": [
    {
     "name": "stderr",
     "output_type": "stream",
     "text": [
      "\n",
      "----------------------------------------------------------------------\n",
      "Ran 0 tests in 0.000s\n",
      "\n",
      "OK\n"
     ]
    },
    {
     "data": {
      "text/plain": [
       "<unittest.runner.TextTestResult run=0 errors=0 failures=0>"
      ]
     },
     "execution_count": 2,
     "metadata": {},
     "output_type": "execute_result"
    }
   ],
   "source": [
    "import unittest\n",
    "\n",
    "\n",
    "class TestAverage(unittest.TestCase):\n",
    "    pass\n",
    "\n",
    "\n",
    "suite = unittest.defaultTestLoader.loadTestsFromTestCase(TestAverage)\n",
    "unittest.TextTestRunner().run(suite)"
   ]
  },
  {
   "cell_type": "markdown",
   "metadata": {},
   "source": [
    "100% statement coverage is not enough to guarantee that the program is bug-free. It only means that every statement in the program has been executed at least once. It does not mean that every possible input has been tested. For example, if the program has a bug that only occurs when the input is a negative number, 100% statement coverage will not be able to detect it.\n",
    "\n",
    "Let's demonstrate this by looking at a familiar example from the first lab! See if you can write a test suite that achieves 100% statement coverage for `count_zeros()` without revealing the bug."
   ]
  },
  {
   "cell_type": "code",
   "execution_count": 3,
   "metadata": {},
   "outputs": [],
   "source": [
    "def count_zeros(arr):\n",
    "    \"\"\"Count the number of zeros in the given list.\"\"\"\n",
    "    count = 0\n",
    "    for i in range(1, len(arr)):\n",
    "        if arr[i] == 0:\n",
    "            count += 1\n",
    "    return count"
   ]
  },
  {
   "cell_type": "code",
   "execution_count": 4,
   "metadata": {},
   "outputs": [
    {
     "name": "stderr",
     "output_type": "stream",
     "text": [
      "\n",
      "----------------------------------------------------------------------\n",
      "Ran 0 tests in 0.000s\n",
      "\n",
      "OK\n"
     ]
    },
    {
     "data": {
      "text/plain": [
       "<unittest.runner.TextTestResult run=0 errors=0 failures=0>"
      ]
     },
     "execution_count": 4,
     "metadata": {},
     "output_type": "execute_result"
    }
   ],
   "source": [
    "import unittest\n",
    "\n",
    "\n",
    "class TestCountZeros(unittest.TestCase):\n",
    "    pass\n",
    "\n",
    "\n",
    "suite = unittest.defaultTestLoader.loadTestsFromTestCase(TestCountZeros)\n",
    "unittest.TextTestRunner().run(suite)"
   ]
  },
  {
   "cell_type": "markdown",
   "metadata": {},
   "source": [
    "100% statement coverage may be impossible to achieve for some programs. This can be useful for identifying dead code and other issues! See if you can write a simple program that cannot be tested with 100% statement coverage."
   ]
  },
  {
   "cell_type": "code",
   "execution_count": 5,
   "metadata": {},
   "outputs": [],
   "source": [
    "def impossible_to_cover():\n",
    "    \"\"\"Make it impossible to achieve 100% statement coverage on this function.\"\"\"\n",
    "    pass"
   ]
  },
  {
   "cell_type": "markdown",
   "metadata": {},
   "source": [
    "## Branch Coverage\n",
    "\n",
    "Branch coverage is a metric that measures the percentage of branches that are executed by a test suite. 100% branch coverage means that every branch in the program has been executed at least once.\n",
    "\n",
    "Branch coverage subsumes statement coverage. 100% branch coverage implies 100% statement coverage, but not the other way around. See if you can write a simple program and test suite that demonstrates this.\n",
    "\n",
    "For bonus points, see if you can come up with a program that cannot be tested with 100% branch coverage. Hint: you might already have written one in the previous section, depending on the approach you took!"
   ]
  },
  {
   "cell_type": "code",
   "execution_count": 6,
   "metadata": {},
   "outputs": [
    {
     "name": "stderr",
     "output_type": "stream",
     "text": [
      "\n",
      "----------------------------------------------------------------------\n",
      "Ran 0 tests in 0.000s\n",
      "\n",
      "OK\n"
     ]
    },
    {
     "data": {
      "text/plain": [
       "<unittest.runner.TextTestResult run=0 errors=0 failures=0>"
      ]
     },
     "execution_count": 6,
     "metadata": {},
     "output_type": "execute_result"
    }
   ],
   "source": [
    "def branch_coverage():\n",
    "    # TODO: your code here\n",
    "    pass\n",
    "\n",
    "class TestStatementsAndBranches(unittest.TestCase):\n",
    "    # TODO: your tests here\n",
    "    pass\n",
    "\n",
    "\n",
    "suite = unittest.defaultTestLoader.loadTestsFromTestCase(TestStatementsAndBranches)\n",
    "unittest.TextTestRunner().run(suite)"
   ]
  },
  {
   "cell_type": "markdown",
   "metadata": {},
   "source": [
    "## Control Flow Graphs\n",
    "\n",
    "You can visualize the control flow of a program using a control flow graph (CFG). This can make it much easier to reason about statement (node) and branch (edge) coverage! Check out https://pypi.org/project/py2cfg/ for one example a Python CFG generator. There are many others for many languages, so do some research and find one that works for you!"
   ]
  },
  {
   "cell_type": "markdown",
   "metadata": {},
   "source": [
    "## Automating Coverage Metrics\n",
    "\n",
    "You can use a coverage tool to automatically calculate statement and branch coverage for your test suites. For example, the `coverage` (https://coverage.readthedocs.io/) package for Python can be used to generate a report that looks like this:\n",
    "\n",
    "```shell\n",
    "$ coverage run -m unittest discover\n",
    "Name                      Stmts   Miss  Cover   Missing\n",
    "-------------------------------------------------------\n",
    "my_program.py                20      4    80%   33-35, 39\n",
    "my_other_module.py           56      6    89%   17-23\n",
    "-------------------------------------------------------\n",
    "TOTAL                        76     10    87%\n",
    "```\n",
    "\n",
    "Again, there are many other coverage tools for many other languages, such as JaCoCo (https://github.com/jacoco/jacoco) for Java and JUnit, so you might want to pick one to use for testing your project! You can also integrate coverage tools with continuous integration (CI) services to automatically run your test suite and generate coverage reports for every commit and pull request."
   ]
  }
 ],
 "metadata": {
  "kernelspec": {
   "display_name": "Python 3",
   "language": "python",
   "name": "python3"
  },
  "language_info": {
   "codemirror_mode": {
    "name": "ipython",
    "version": 3
   },
   "file_extension": ".py",
   "mimetype": "text/x-python",
   "name": "python",
   "nbconvert_exporter": "python",
   "pygments_lexer": "ipython3",
   "version": "3.8.10"
  }
 },
 "nbformat": 4,
 "nbformat_minor": 2
}
